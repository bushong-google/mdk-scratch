{
 "cells": [
  {
   "cell_type": "markdown",
   "id": "338b28d6",
   "metadata": {},
   "source": [
    "# Dry Beans Dataset"
   ]
  },
  {
   "cell_type": "markdown",
   "id": "ae59c969",
   "metadata": {
    "vscode": {
     "languageId": "plaintext"
    }
   },
   "source": [
    "Fit the dry beans model to a a decision tree model for demonstration purposes."
   ]
  },
  {
   "cell_type": "code",
   "execution_count": null,
   "id": "9beee145",
   "metadata": {},
   "outputs": [],
   "source": [
    "import sklearn.model_selection\n",
    "import pandas as pd\n",
    "import sklearn.tree\n",
    "import pickle\n",
    "import pprint\n",
    "import yaml"
   ]
  },
  {
   "cell_type": "code",
   "execution_count": 6,
   "id": "cb1ecfc9",
   "metadata": {},
   "outputs": [
    {
     "name": "stdout",
     "output_type": "stream",
     "text": [
      "\n",
      "{'bucket': 'bushong-exp-2025-data',\n",
      " 'csv': 'Dry_Beans_Dataset.csv',\n",
      " 'dataset_id': 'dry_beans',\n",
      " 'key_file': 'svc-acct-key.json',\n",
      " 'project_id': 'bushong-exp-2025',\n",
      " 'region': 'us-central1',\n",
      " 'svc_acct': 'dry-beans',\n",
      " 'table': 'features'}\n",
      "\n",
      "Dataframe loaded.\n"
     ]
    }
   ],
   "source": [
    "CONFIG_FILENAME = \"dry-beans-config.yaml\"\n",
    "MODEL_ARTIFACT_FILENAME = \"dt_model.pkl\"\n",
    "FEATURES_FILENAME = \"Dry_Beans_Dataset.csv\"\n",
    "\n",
    "# Load our config file:\n",
    "with open(CONFIG_FILENAME, \"r\") as fin:\n",
    "    config = yaml.safe_load(fin)\n",
    "print(f\"\\n{pprint.pformat(config)}\\n\")\n",
    "\n",
    "# Get our dataset:\n",
    "df = pd.read_csv(FEATURES_FILENAME)\n",
    "print(\"Dataframe loaded.\", flush=True)\n",
    "\n",
    "# Create our train / test split:\n",
    "labels = df.pop(\"Class\").tolist()\n",
    "data = df.values.tolist()\n",
    "x_train, x_test, y_train, y_test = sklearn.model_selection.train_test_split(\n",
    "    data, labels\n",
    ")"
   ]
  },
  {
   "cell_type": "code",
   "execution_count": 7,
   "id": "3664f5af",
   "metadata": {},
   "outputs": [
    {
     "name": "stdout",
     "output_type": "stream",
     "text": [
      "Fitting model...\n",
      "Scoring model...\n",
      "Accuracy: 0.892\n",
      "Writing model: dt_model.pkl\n",
      "Fit complete.\n"
     ]
    }
   ],
   "source": [
    "print(\"Fitting model...\", flush=True)\n",
    "dt_model = sklearn.tree.DecisionTreeClassifier()\n",
    "dt_model.fit(x_train, y_train)\n",
    "\n",
    "print(\"Scoring model...\", flush=True)\n",
    "accuracy = dt_model.score(x_test, y_test)\n",
    "print(f\"Accuracy: {accuracy:.3}\")\n",
    "\n",
    "print(f\"Writing model: {MODEL_ARTIFACT_FILENAME}\", flush=True)\n",
    "with open(MODEL_ARTIFACT_FILENAME, \"wb\") as fout:\n",
    "    pickle.dump(dt_model, fout)\n",
    "\n",
    "print(\"Fit complete.\", flush=True)"
   ]
  }
 ],
 "metadata": {
  "kernelspec": {
   "display_name": ".venv",
   "language": "python",
   "name": "python3"
  },
  "language_info": {
   "codemirror_mode": {
    "name": "ipython",
    "version": 3
   },
   "file_extension": ".py",
   "mimetype": "text/x-python",
   "name": "python",
   "nbconvert_exporter": "python",
   "pygments_lexer": "ipython3",
   "version": "3.13.0"
  }
 },
 "nbformat": 4,
 "nbformat_minor": 5
}
